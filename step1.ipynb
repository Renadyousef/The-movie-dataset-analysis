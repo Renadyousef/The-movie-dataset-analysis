{
 "cells": [
  {
   "cell_type": "code",
   "execution_count": 1,
   "id": "50ebf109-f4d5-4481-9167-3256999883aa",
   "metadata": {},
   "outputs": [],
   "source": [
    "import findspark #look up my local spark\n",
    "findspark.init()\n"
   ]
  },
  {
   "cell_type": "code",
   "execution_count": 2,
   "id": "4d3c639a-bc01-4f95-8aa0-d3afdbf4dba3",
   "metadata": {},
   "outputs": [
    {
     "data": {
      "text/html": [
       "\n",
       "            <div>\n",
       "                <p><b>SparkSession - in-memory</b></p>\n",
       "                \n",
       "        <div>\n",
       "            <p><b>SparkContext</b></p>\n",
       "\n",
       "            <p><a href=\"http://10.11.194.97:4040\">Spark UI</a></p>\n",
       "\n",
       "            <dl>\n",
       "              <dt>Version</dt>\n",
       "                <dd><code>v3.5.3</code></dd>\n",
       "              <dt>Master</dt>\n",
       "                <dd><code>local[*]</code></dd>\n",
       "              <dt>AppName</dt>\n",
       "                <dd><code>MyApp</code></dd>\n",
       "            </dl>\n",
       "        </div>\n",
       "        \n",
       "            </div>\n",
       "        "
      ],
      "text/plain": [
       "<pyspark.sql.session.SparkSession at 0x1c5b5d803e0>"
      ]
     },
     "execution_count": 2,
     "metadata": {},
     "output_type": "execute_result"
    }
   ],
   "source": [
    "from pyspark.sql import SparkSession #start spark session\n",
    "#PySpark:is a library for Apache Spark, which is a distributed computing framework\n",
    "#.sql:perform SQL-like operations on DataFrames, making it easier to manipulate and analyze large dataset\n",
    "\n",
    "# Create a Spark session\n",
    "spark = SparkSession.builder.master(\"local[*]\").appName(\"MyApp\").getOrCreate() #on my local\n",
    "\n",
    "# Check if the Spark session is active\n",
    "spark\n"
   ]
  },
  {
   "cell_type": "code",
   "execution_count": 3,
   "id": "6ab5d0cc-a84b-479d-a2ba-79085a7a2763",
   "metadata": {},
   "outputs": [
    {
     "name": "stdout",
     "output_type": "stream",
     "text": [
      "+-----+---------------------+--------+--------------------+--------------------+-----+---------+-----------------+--------------------+--------------------+----------+--------------------+--------------------+--------------------+--------------------+--------------------+--------------------+--------------------+--------+--------------------+--------------------+--------+--------------------+-----------------+\n",
      "|adult|belongs_to_collection|  budget|              genres|            homepage|   id|  imdb_id|original_language|      original_title|            overview|popularity|         poster_path|production_companies|production_countries|        release_date|             revenue|             runtime|    spoken_languages|  status|             tagline|               title|   video|        vote_average|       vote_count|\n",
      "+-----+---------------------+--------+--------------------+--------------------+-----+---------+-----------------+--------------------+--------------------+----------+--------------------+--------------------+--------------------+--------------------+--------------------+--------------------+--------------------+--------+--------------------+--------------------+--------+--------------------+-----------------+\n",
      "|False| {'id': 10194, 'na...|30000000|[{'id': 16, 'name...|http://toystory.d...|  862|tt0114709|               en|           Toy Story|Led by Woody, And...| 21.946943|/rhIRbceoE9lR4veE...|[{'name': 'Pixar ...|[{'iso_3166_1': '...|          1995-10-30|           373554033|                81.0|[{'iso_639_1': 'e...|Released|                NULL|           Toy Story|   False|                 7.7|             5415|\n",
      "|False|                 NULL|65000000|[{'id': 12, 'name...|                NULL| 8844|tt0113497|               en|             Jumanji|When siblings Jud...| 17.015539|/vzmL6fP7aPKNKPRT...|[{'name': 'TriSta...|[{'iso_3166_1': '...|          1995-12-15|           262797249|               104.0|[{'iso_639_1': 'e...|Released|Roll the dice and...|             Jumanji|   False|                 6.9|             2413|\n",
      "|False| {'id': 119050, 'n...|       0|[{'id': 10749, 'n...|                NULL|15602|tt0113228|               en|    Grumpier Old Men|A family wedding ...|   11.7129|/6ksm1sjKMFLbO7UY...|[{'name': 'Warner...|[{'iso_3166_1': '...|          1995-12-22|                   0|               101.0|[{'iso_639_1': 'e...|Released|Still Yelling. St...|    Grumpier Old Men|   False|                 6.5|               92|\n",
      "|False|                 NULL|16000000|[{'id': 35, 'name...|                NULL|31357|tt0114885|               en|   Waiting to Exhale|\"Cheated on, mist...|    Bernie| Glo and Robin ta...| determined to fi...|            3.859495|/16XOMpEaLWkrcPqS...|[{'name': 'Twenti...|[{'iso_3166_1': '...|          1995-12-22|81452156|               127.0|[{'iso_639_1': 'e...|Released|Friends are the p...|Waiting to Exhale|\n",
      "|False| {'id': 96871, 'na...|       0|[{'id': 35, 'name...|                NULL|11862|tt0113041|               en|Father of the Bri...|Just when George ...|  8.387519|/e64sOI48hQXyru7n...|[{'name': 'Sandol...|[{'iso_3166_1': '...|          1995-02-10|            76578911|               106.0|[{'iso_639_1': 'e...|Released|Just When His Wor...|Father of the Bri...|   False|                 5.7|              173|\n",
      "|False|                 NULL|60000000|[{'id': 28, 'name...|                NULL|  949|tt0113277|               en|                Heat|Obsessive master ...| 17.924927|/zMyfPUelumio3tiD...|[{'name': 'Regenc...|[{'iso_3166_1': '...|          1995-12-15|           187436818|               170.0|[{'iso_639_1': 'e...|Released|A Los Angeles Cri...|                Heat|   False|                 7.7|             1886|\n",
      "|False|                 NULL|58000000|[{'id': 35, 'name...|                NULL|11860|tt0114319|               en|             Sabrina|An ugly duckling ...|  6.677277|/jQh15y5YB7bWz1Nt...|[{'name': 'Paramo...|[{'iso_3166_1': '...|          1995-12-15|                   0|               127.0|[{'iso_639_1': 'f...|Released|You are cordially...|             Sabrina|   False|                 6.2|              141|\n",
      "|False|                 NULL|       0|[{'id': 28, 'name...|                NULL|45325|tt0112302|               en|        Tom and Huck|A mischievous you...|  2.561161|/sGO5Qa55p7wTu7FJ...|[{'name': 'Walt D...|[{'iso_3166_1': '...|          1995-12-22|                   0|                97.0|[{'iso_639_1': 'e...|Released|The Original Bad ...|        Tom and Huck|   False|                 5.4|               45|\n",
      "|False|                 NULL|35000000|[{'id': 28, 'name...|                NULL| 9091|tt0114576|               en|        Sudden Death|International act...|   5.23158|/eoWvKD60lT95Ss1M...|[{'name': 'Univer...|[{'iso_3166_1': '...|          1995-12-22|            64350171|               106.0|[{'iso_639_1': 'e...|Released|Terror goes into ...|        Sudden Death|   False|                 5.5|              174|\n",
      "|False| {'id': 645, 'name...|58000000|[{'id': 12, 'name...|http://www.mgm.co...|  710|tt0113189|               en|           GoldenEye|James Bond must u...| 14.686036|/5c0ovjT41KnYIHYu...|[{'name': 'United...|[{'iso_3166_1': '...|          1995-11-16|           352194034|               130.0|[{'iso_639_1': 'e...|Released|No limits. No fea...|           GoldenEye|   False|                 6.6|             1194|\n",
      "|False|                 NULL|62000000|[{'id': 35, 'name...|                NULL| 9087|tt0112346|               en|The American Pres...|Widowed U.S. pres...|  6.318445|/lymPNGLZgPHuqM29...|[{'name': 'Columb...|[{'iso_3166_1': '...|          1995-11-17|           107879496|               106.0|[{'iso_639_1': 'e...|Released|Why can't the mos...|The American Pres...|   False|                 6.5|              199|\n",
      "|False|                 NULL|       0|[{'id': 35, 'name...|                NULL|12110|tt0112896|               en|Dracula: Dead and...|When a lawyer sho...|  5.430331|/xve4cgfYItnOhtzL...|[{'name': 'Columb...|[{'iso_3166_1': '...|          1995-12-22|                   0|                88.0|[{'iso_639_1': 'e...|Released|                NULL|Dracula: Dead and...|   False|                 5.7|              210|\n",
      "|False| {'id': 117693, 'n...|       0|[{'id': 10751, 'n...|                NULL|21032|tt0112453|               en|               Balto|An outcast half-w...| 12.140733|/gV5PCAVCPNxlOLFM...|[{'name': 'Univer...|[{'iso_3166_1': '...|          1995-12-22|            11348324|                78.0|[{'iso_639_1': 'e...|Released|Part Dog. Part Wo...|               Balto|   False|                 7.1|              423|\n",
      "|False|                 NULL|44000000|[{'id': 36, 'name...|                NULL|10858|tt0113987|               en|               Nixon|An all-star cast ...|     5.092|/cICkmCEiXRhvZmbu...|[{'name': 'Hollyw...|[{'iso_3166_1': '...|          1995-12-22|            13681765|               192.0|[{'iso_639_1': 'e...|Released|Triumphant in Vic...|               Nixon|   False|                 7.1|               72|\n",
      "|False|                 NULL|98000000|[{'id': 28, 'name...|                NULL| 1408|tt0112760|               en|    Cutthroat Island|Morgan Adams and ...|  7.284477|/odM9973kIv9hcjfH...|[{'name': 'Le Stu...|[{'iso_3166_1': '...|          1995-12-22|            10017322|               119.0|[{'iso_639_1': 'e...|Released|The Course Has Be...|    Cutthroat Island|   False|                 5.7|              137|\n",
      "|False|                 NULL|52000000|[{'id': 18, 'name...|                NULL|  524|tt0112641|               en|              Casino|The life of the g...| 10.137389|/xo517ibXBDdYQY81...|[{'name': 'Univer...|[{'iso_3166_1': '...|          1995-11-22|           116112375|               178.0|[{'iso_639_1': 'e...|Released|No one stays at t...|              Casino|   False|                 7.8|             1343|\n",
      "|False|                 NULL|16500000|[{'id': 18, 'name...|                NULL| 4584|tt0114388|               en|Sense and Sensibi...|Rich Mr. Dashwood...| 10.673167|/lA9HTy84Bb6ZwNey...|[{'name': 'Columb...|[{'iso_3166_1': '...|          1995-12-13|           135000000|               136.0|[{'iso_639_1': 'e...|Released|Lose your heart a...|Sense and Sensibi...|   False|                 7.2|              364|\n",
      "|False|                 NULL| 4000000|[{'id': 80, 'name...|                NULL|    5|tt0113101|               en|          Four Rooms|It's Ted the Bell...|  9.026586|/eQs5hh9rxrk1m4xH...|[{'name': 'Mirama...|[{'iso_3166_1': '...|          1995-12-09|             4300000|                98.0|[{'iso_639_1': 'e...|Released|Twelve outrageous...|          Four Rooms|   False|                 6.5|              539|\n",
      "|False| {'id': 3167, 'nam...|30000000|[{'id': 80, 'name...|                NULL| 9273|tt0112281|               en|Ace Ventura: When...|Summoned from an ...|  8.205448|/wRlGnJhEzcxBjvWt...|[{'name': 'O Ente...|[{'iso_3166_1': '...|          1995-11-10|           212385533|                90.0|[{'iso_639_1': 'e...|Released|New animals. New ...|Ace Ventura: When...|   False|                 6.1|             1128|\n",
      "|False|                 NULL|60000000|[{'id': 28, 'name...|                NULL|11517|tt0113845|               en|         Money Train|A vengeful New Yo...|  7.337906|/jSozzzVOR2kfXgTU...|[{'name': 'Columb...|[{'iso_3166_1': '...|          1995-11-21|            35431113|               103.0|[{'iso_639_1': 'e...|Released|Get on, or GET OU...|         Money Train|   False|                 5.4|              224|\n",
      "+-----+---------------------+--------+--------------------+--------------------+-----+---------+-----------------+--------------------+--------------------+----------+--------------------+--------------------+--------------------+--------------------+--------------------+--------------------+--------------------+--------+--------------------+--------------------+--------+--------------------+-----------------+\n",
      "only showing top 20 rows\n",
      "\n"
     ]
    }
   ],
   "source": [
    "# Load my data \n",
    "df = spark.read.csv(\"C:\\\\Users\\\\renad\\\\OneDrive\\\\Desktop\\\\cloud and big data project\\\\data\\\\movies_metadata.csv\", header=True, inferSchema=True)\n",
    "\n",
    "# Show the first few rows of the DataFrame\n",
    "df.show()\n"
   ]
  },
  {
   "cell_type": "code",
   "execution_count": 4,
   "id": "c33b3a2d-4a7d-4091-9524-6cb1a0bef325",
   "metadata": {},
   "outputs": [
    {
     "name": "stdout",
     "output_type": "stream",
     "text": [
      "DataFrame[id: string, budget: string, vote_average: string]\n"
     ]
    }
   ],
   "source": [
    "#the columns im intrested in ,my current data frame\n",
    "selected_columns=df.select(\"id\",\"budget\",\"vote_average\")\n",
    "print(selected_columns)\n",
    "#by default, Spark treats the JSON data in the column as a string,so ww will have to deal with that"
   ]
  },
  {
   "cell_type": "code",
   "execution_count": 5,
   "id": "e5938e19-5b25-4fed-befc-782d7d644675",
   "metadata": {},
   "outputs": [],
   "source": [
    "from pyspark.sql.functions import trim,col\n",
    "#handleing casting with white space since its a string so it wont be null after casting\n",
    "\n",
    "selected_columns = selected_columns.withColumn(\"budget\", trim(col(\"budget\")))\n",
    "selected_columns = selected_columns.withColumn(\"vote_average\", trim(col(\"vote_average\")))\n"
   ]
  },
  {
   "cell_type": "code",
   "execution_count": 6,
   "id": "322140db-7595-4142-86f7-62f496ce4ad8",
   "metadata": {},
   "outputs": [
    {
     "name": "stdout",
     "output_type": "stream",
     "text": [
      "root\n",
      " |-- id: string (nullable = true)\n",
      " |-- budget: float (nullable = true)\n",
      " |-- vote_average: float (nullable = true)\n",
      "\n"
     ]
    }
   ],
   "source": [
    "#for this section ill clean all columns but the json for later\n",
    "\n",
    "##col:function is used to refer to a DataFrame column by name. It allows you to perform various operation,like casting a col\n",
    "selected_columns = selected_columns.withColumn(\"budget\", col(\"budget\").cast(\"float\"))\n",
    "selected_columns = selected_columns.withColumn(\"vote_average\", col(\"vote_average\").cast(\"float\"))\n",
    "selected_columns.printSchema()\n",
    "\n",
    "\n"
   ]
  },
  {
   "cell_type": "code",
   "execution_count": 7,
   "id": "ab9eb544-90fc-44d0-aa65-7aaed9f3b206",
   "metadata": {},
   "outputs": [
    {
     "name": "stdout",
     "output_type": "stream",
     "text": [
      "Before fixing null values:\n",
      "+----------+---------+------------+\n",
      "|        id|   budget|vote_average|\n",
      "+----------+---------+------------+\n",
      "|     31357|    1.6E7|        NULL|\n",
      "|      8012|  3.025E7|        NULL|\n",
      "|       902|    1.8E7|        NULL|\n",
      "|     11443|    1.0E7|        NULL|\n",
      "|       807|    3.3E7|        NULL|\n",
      "|      9536|    1.5E7|        NULL|\n",
      "|      9623|    4.4E7|        NULL|\n",
      "|    188588|      0.0|        NULL|\n",
      "|      9283|      0.0|        NULL|\n",
      "|     63076|      0.0|        NULL|\n",
      "|    290157|      0.0|        NULL|\n",
      "|1995-01-01|     NULL|        NULL|\n",
      "|     55475|      0.0|        NULL|\n",
      "|    124636|      0.0|        NULL|\n",
      "|      5757|      0.0|        NULL|\n",
      "|      8839|    5.0E7|        NULL|\n",
      "|     17447|      0.0|        NULL|\n",
      "|      9344|1500000.0|        NULL|\n",
      "|     47608|      0.0|        NULL|\n",
      "|     18402|      0.0|        NULL|\n",
      "+----------+---------+------------+\n",
      "only showing top 20 rows\n",
      "\n",
      "After fixing null values:\n",
      "+---+------+------------+\n",
      "| id|budget|vote_average|\n",
      "+---+------+------------+\n",
      "+---+------+------------+\n",
      "\n"
     ]
    }
   ],
   "source": [
    "#Check for Missing Values [null]\n",
    "\n",
    "print(\"Before fixing null values:\")\n",
    "selected_columns.filter(\n",
    "    selected_columns.id.isNull() | \n",
    "    selected_columns.budget.isNull() | \n",
    "    selected_columns.vote_average.isNull()\n",
    ").show()\n",
    "\n",
    "# Drop rows where either 'budget' or 'vote_average' is null\n",
    "# Since both are critical to my analysis\n",
    "selected_columns = selected_columns.dropna(subset=[\"budget\", \"vote_average\"])\n",
    "\n",
    "# Check for Missing Values [null] after fixing\n",
    "print(\"After fixing null values:\")\n",
    "selected_columns.filter(\n",
    "    selected_columns.id.isNull() | \n",
    "    selected_columns.budget.isNull() | \n",
    "    selected_columns.vote_average.isNull() \n",
    ").show()\n",
    "\n"
   ]
  },
  {
   "cell_type": "code",
   "execution_count": 8,
   "id": "7cdcef7a-6420-49e5-8941-cf92c59553a9",
   "metadata": {},
   "outputs": [],
   "source": [
    "#drop duplicates rows ill measure by id, method of pyspark takes a sub set[] inside the col name \n",
    "selected_columns = selected_columns.dropDuplicates([\"id\"])"
   ]
  },
  {
   "cell_type": "code",
   "execution_count": 9,
   "id": "a16c9fc6-facc-462b-9ef1-29c6c62d6361",
   "metadata": {},
   "outputs": [],
   "source": [
    "#trim whitespace \n",
    "selected_columns = selected_columns.withColumn(\"id\", trim(col(\"id\")))\n",
    "\n",
    "\n"
   ]
  },
  {
   "cell_type": "code",
   "execution_count": 10,
   "id": "9ac81cd8-8ff0-4ad9-b192-6876e517fa59",
   "metadata": {},
   "outputs": [
    {
     "name": "stdout",
     "output_type": "stream",
     "text": [
      "['id', 'budget', 'vote_average']\n"
     ]
    }
   ],
   "source": [
    "# Print the column names to check the schema\n",
    "column_names = selected_columns.columns\n",
    "print(column_names)\n",
    "\n",
    "\n"
   ]
  },
  {
   "cell_type": "code",
   "execution_count": 11,
   "id": "8ad28458-0c76-4c86-837a-e48925af801a",
   "metadata": {},
   "outputs": [
    {
     "name": "stdout",
     "output_type": "stream",
     "text": [
      "root\n",
      " |-- id: string (nullable = true)\n",
      " |-- budget: float (nullable = true)\n",
      " |-- vote_average: float (nullable = true)\n",
      "\n"
     ]
    }
   ],
   "source": [
    "selected_columns.printSchema()\n",
    "\n",
    "\n",
    "\n"
   ]
  },
  {
   "cell_type": "code",
   "execution_count": 12,
   "id": "d580f561-c0e7-49fa-98e2-a58c1de37de0",
   "metadata": {},
   "outputs": [
    {
     "name": "stdout",
     "output_type": "stream",
     "text": [
      "Remaining rows after removing zero budget:\n",
      "+-----+---------+------------+\n",
      "|   id|   budget|vote_average|\n",
      "+-----+---------+------------+\n",
      "| 1572|    9.0E7|         6.9|\n",
      "|10436|    3.4E7|         7.0|\n",
      "| 2088|   1.15E7|         5.7|\n",
      "|38223|    1.2E7|         5.7|\n",
      "|  829|6000000.0|         7.9|\n",
      "| 5925|4000000.0|         7.8|\n",
      "|10351|5000000.0|         5.6|\n",
      "| 1090|    1.6E7|         6.8|\n",
      "| 2162|    7.0E7|         5.3|\n",
      "| 9586|    4.7E7|         5.3|\n",
      "| 2069|   4.13E7|         6.3|\n",
      "|  691|    1.4E7|         6.6|\n",
      "|32275|6000000.0|         6.2|\n",
      "| 2294|    2.2E7|         6.4|\n",
      "|11888|    3.3E7|         5.3|\n",
      "|  451|3600000.0|         7.1|\n",
      "|28288| 520000.0|         7.2|\n",
      "| 2756|    7.0E7|         7.1|\n",
      "|10603|    5.5E7|         5.4|\n",
      "| 9407|    4.8E7|         5.9|\n",
      "+-----+---------+------------+\n",
      "only showing top 20 rows\n",
      "\n"
     ]
    }
   ],
   "source": [
    "#why are all budget showing 0?\n",
    "# Remove rows with a budget of 0\n",
    "selected_columns = selected_columns.filter(selected_columns.budget > 0)#are we removing them\n",
    "# Check remaining rows after filtering\n",
    "print(\"Remaining rows after removing zero budget:\")\n",
    "selected_columns.show()\n",
    "\n"
   ]
  },
  {
   "cell_type": "code",
   "execution_count": 13,
   "id": "084eb48b-ebce-481f-8bf5-7a36db8de594",
   "metadata": {},
   "outputs": [
    {
     "name": "stdout",
     "output_type": "stream",
     "text": [
      "+---------+------------+\n",
      "|   budget|vote_average|\n",
      "+---------+------------+\n",
      "|    9.0E7|         6.9|\n",
      "|    3.4E7|         7.0|\n",
      "|   1.15E7|         5.7|\n",
      "|    1.2E7|         5.7|\n",
      "|6000000.0|         7.9|\n",
      "|4000000.0|         7.8|\n",
      "|5000000.0|         5.6|\n",
      "|    1.6E7|         6.8|\n",
      "|    7.0E7|         5.3|\n",
      "|    4.7E7|         5.3|\n",
      "|   4.13E7|         6.3|\n",
      "|    1.4E7|         6.6|\n",
      "|6000000.0|         6.2|\n",
      "|    2.2E7|         6.4|\n",
      "|    3.3E7|         5.3|\n",
      "|3600000.0|         7.1|\n",
      "| 520000.0|         7.2|\n",
      "|    7.0E7|         7.1|\n",
      "|    5.5E7|         5.4|\n",
      "|    4.8E7|         5.9|\n",
      "+---------+------------+\n",
      "only showing top 20 rows\n",
      "\n",
      "Coefficients: [0.005266067916217216]\n",
      "Intercept: 13266.065449689728\n",
      "+------+------------+------------------+\n",
      "|budget|vote_average|        prediction|\n",
      "+------+------------+------------------+\n",
      "|   1.0|         4.0|13266.070715757643|\n",
      "|   1.0|         5.1|13266.070715757643|\n",
      "|   1.0|         6.4|13266.070715757643|\n",
      "|   1.0|         6.4|13266.070715757643|\n",
      "|   1.0|         7.5|13266.070715757643|\n",
      "|   2.0|         0.0|13266.075981825561|\n",
      "|   2.0|         6.0|13266.075981825561|\n",
      "|   2.0|         6.4|13266.075981825561|\n",
      "|   2.0|         8.0|13266.075981825561|\n",
      "|   3.0|         4.0|13266.081247893477|\n",
      "|   3.0|         5.2|13266.081247893477|\n",
      "|   3.0|         6.9|13266.081247893477|\n",
      "|   3.0|         9.0|13266.081247893477|\n",
      "|   5.0|         0.0|13266.091780029308|\n",
      "|   6.0|         5.5|13266.097046097226|\n",
      "|   7.0|         7.1|13266.102312165141|\n",
      "|  12.0|         4.5|13266.128642504722|\n",
      "|  12.0|         5.1|13266.128642504722|\n",
      "|  18.0|         5.1| 13266.16023891222|\n",
      "|  33.0|         6.8|13266.239229930963|\n",
      "+------+------------+------------------+\n",
      "only showing top 20 rows\n",
      "\n",
      "Root Mean Squared Error (RMSE) on test data: 319071.4656131243\n"
     ]
    }
   ],
   "source": [
    "from pyspark.ml.feature import VectorAssembler # ml only can take vector so \n",
    "from pyspark.ml.regression import LinearRegression\n",
    "from pyspark.ml.evaluation import RegressionEvaluator #evalute ur modle\n",
    "#ml configration i wanna implment linear reggersion,no need for id\n",
    "selected_columns = selected_columns.drop(\"id\")\n",
    "selected_columns.show()\n",
    "#budget is my feature[input] my label is vote[the dependent variable]\n",
    "\n",
    "#ml expect input as a form of vector\n",
    "\n",
    "# Step 1: Create a feature vector for budget ,creating a new column called features\n",
    "assembler = VectorAssembler(inputCols=[\"budget\"], outputCol=\"features\")\n",
    "assembled_data = assembler.transform(selected_columns)\n",
    "\n",
    "# Step 2: Split the data into training 80% and test 20% \n",
    "train_data, test_data = assembled_data.randomSplit([0.8, 0.2], seed=123)\n",
    "\n",
    "# Step 3: Set up the linear regression model get my selected columns for predictions\n",
    "lr = LinearRegression(featuresCol=\"features\", labelCol=\"vote_average\")\n",
    "\n",
    "# Step 4: Train the model on the training data\n",
    "lr_model = lr.fit(train_data)\n",
    "\n",
    "# Step 5: Output the model's coefficients and intercept\n",
    "#coefficients and intercept is a crucial part of understanding how the linear regression model predicts outcomes y=mx+b\n",
    "# generalization based on the relationships identified across all of your training data\n",
    "print(f\"Coefficients: {lr_model.coefficients}\")\n",
    "print(f\"Intercept: {lr_model.intercept}\")\n",
    "\n",
    "# Step 6: Make predictions on the test data the 20%\n",
    "predictions = lr_model.transform(test_data)\n",
    "predictions.select(\"budget\", \"vote_average\", \"prediction\").show()\n",
    "\n",
    "# Step 7: Evaluate the model using RMSE (Root Mean Squared Error) this is the standard for linear reggrssion\n",
    "evaluator = RegressionEvaluator(labelCol=\"vote_average\", predictionCol=\"prediction\", metricName=\"rmse\")\n",
    "rmse = evaluator.evaluate(predictions)\n",
    "print(f\"Root Mean Squared Error (RMSE) on test data: {rmse}\")\n",
    "\n",
    "\n",
    "\n"
   ]
  },
  {
   "cell_type": "code",
   "execution_count": 14,
   "id": "926d4319-f424-480c-b54d-7a1d1a7477b1",
   "metadata": {},
   "outputs": [
    {
     "data": {
      "image/png": "[encoded data removed]",
      "text/plain": [
       "<Figure size 1000x600 with 1 Axes>"
      ]
     },
     "metadata": {},
     "output_type": "display_data"
    }
   ],
   "source": [
    "import matplotlib.pyplot as plt\n",
    "import seaborn as sns\n",
    "\n",
    "# Extract the columns for budget, actual vote_average, and predicted vote_average and turn them to pandas data frame\n",
    "x = predictions.select(\"budget\").toPandas()\n",
    "y_actual = predictions.select(\"vote_average\").toPandas()\n",
    "y_pred = predictions.select(\"prediction\").toPandas()\n",
    "\n",
    "# Create a scatter plot of actual vote_average vs budget\n",
    "plt.figure(figsize=(10, 6))\n",
    "sns.scatterplot(x=x['budget'], y=y_actual['vote_average'], label=\"Actual\", alpha=0.6, color='blue')\n",
    "\n",
    "\n",
    "sns.lineplot(x=x['budget'], y=y_pred['prediction'], label=\"Predicted\", color='red')\n",
    "\n",
    "# Adding labels and title\n",
    "plt.title(\"Actual vs Predicted Vote Average vs. Budget\")\n",
    "plt.xlabel(\"Budget\")\n",
    "plt.ylabel(\"Vote Average\")\n",
    "\n",
    "# Show the plot\n",
    "plt.grid()\n",
    "plt.legend()\n",
    "plt.show()\n"
   ]
  }
 ],
 "metadata": {
  "kernelspec": {
   "display_name": "Python 3 (ipykernel)",
   "language": "python",
   "name": "python3"
  },
  "language_info": {
   "codemirror_mode": {
    "name": "ipython",
    "version": 3
   },
   "file_extension": ".py",
   "mimetype": "text/x-python",
   "name": "python",
   "nbconvert_exporter": "python",
   "pygments_lexer": "ipython3",
   "version": "3.12.7"
  }
 },
 "nbformat": 4,
 "nbformat_minor": 5
}
